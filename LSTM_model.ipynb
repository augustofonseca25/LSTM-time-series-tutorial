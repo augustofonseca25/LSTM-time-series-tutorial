{
  "cells": [
    {
      "cell_type": "code",
      "source": [
        "# Importing libraries\n",
        "import pandas as pd\n",
        "import matplotlib.pyplot as plt\n",
        "\n",
        "from keras.models import Sequential\n",
        "from keras.layers import LSTM, Dense\n"
      ],
      "metadata": {
        "id": "NYzO07kfhNIY"
      },
      "execution_count": 34,
      "outputs": []
    },
    {
      "cell_type": "code",
      "source": [
        "from google.colab import drive\n",
        "drive.mount('/content/drive')"
      ],
      "metadata": {
        "colab": {
          "base_uri": "https://localhost:8080/"
        },
        "id": "z3hsunngiBCx",
        "outputId": "777678e7-b422-48d8-d798-d7f3b088f18b"
      },
      "execution_count": 35,
      "outputs": [
        {
          "output_type": "stream",
          "name": "stdout",
          "text": [
            "Drive already mounted at /content/drive; to attempt to forcibly remount, call drive.mount(\"/content/drive\", force_remount=True).\n"
          ]
        }
      ]
    },
    {
      "cell_type": "code",
      "execution_count": 36,
      "metadata": {
        "id": "JdZbMhAjg_qJ"
      },
      "outputs": [],
      "source": [
        "# LSTM model\n",
        "\n",
        "# Based on https://machinelearningmastery.com/multivariate-time-series-forecasting-lstms-keras/\n",
        "\n",
        "# Change to your file path\n",
        "file_path = '/content/drive/My Drive/Data_Projects/MDS/3rd semester/Deep learning LAB/Assignments/LSTM-time-series-tutorial/data/reframed.csv'\n",
        "reframed = pd.read_csv(file_path)\n"
      ]
    },
    {
      "cell_type": "code",
      "source": [
        "len(reframed)"
      ],
      "metadata": {
        "colab": {
          "base_uri": "https://localhost:8080/"
        },
        "id": "ywxaltGzjqGI",
        "outputId": "3013266a-42f8-4a20-8a44-3ecf9cf70829"
      },
      "execution_count": null,
      "outputs": [
        {
          "output_type": "execute_result",
          "data": {
            "text/plain": [
              "1412"
            ]
          },
          "metadata": {},
          "execution_count": 31
        }
      ]
    },
    {
      "cell_type": "code",
      "execution_count": 37,
      "metadata": {
        "colab": {
          "base_uri": "https://localhost:8080/"
        },
        "id": "PqZlN5Eog_qL",
        "outputId": "01074d8b-d5e2-4377-c264-a589c320e458"
      },
      "outputs": [
        {
          "output_type": "stream",
          "name": "stdout",
          "text": [
            "(988, 1, 210) (988,) (424, 1, 210) (424,)\n"
          ]
        }
      ],
      "source": [
        "# split into train and test sets\n",
        "values = reframed.values\n",
        "#n_train_hours = 365 * 24\n",
        "n_train_days = int(0.7 * len(reframed))\n",
        "train = values[:n_train_days, :]\n",
        "test = values[n_train_days:, :]\n",
        "# split into input and outputs\n",
        "train_X, train_y = train[:, :-1], train[:, -1]\n",
        "test_X, test_y = test[:, :-1], test[:, -1]\n",
        "# reshape input to be 3D [samples, timesteps, features]\n",
        "train_X = train_X.reshape((train_X.shape[0], 1, train_X.shape[1]))\n",
        "test_X = test_X.reshape((test_X.shape[0], 1, test_X.shape[1]))\n",
        "print(train_X.shape, train_y.shape, test_X.shape, test_y.shape)"
      ]
    },
    {
      "cell_type": "code",
      "execution_count": 38,
      "metadata": {
        "colab": {
          "base_uri": "https://localhost:8080/",
          "height": 1000
        },
        "id": "V9UIjoL9g_qL",
        "outputId": "207ab367-759c-4efd-baaa-012346a00794"
      },
      "outputs": [
        {
          "output_type": "stream",
          "name": "stdout",
          "text": [
            "Epoch 1/50\n",
            "99/99 - 8s - loss: 0.1232 - val_loss: 0.2232 - 8s/epoch - 85ms/step\n",
            "Epoch 2/50\n",
            "99/99 - 1s - loss: 0.1270 - val_loss: 0.0943 - 512ms/epoch - 5ms/step\n",
            "Epoch 3/50\n",
            "99/99 - 1s - loss: 0.0998 - val_loss: 0.0917 - 623ms/epoch - 6ms/step\n",
            "Epoch 4/50\n",
            "99/99 - 1s - loss: 0.0922 - val_loss: 0.0858 - 744ms/epoch - 8ms/step\n",
            "Epoch 5/50\n",
            "99/99 - 1s - loss: 0.0854 - val_loss: 0.0889 - 720ms/epoch - 7ms/step\n",
            "Epoch 6/50\n",
            "99/99 - 1s - loss: 0.0813 - val_loss: 0.0897 - 688ms/epoch - 7ms/step\n",
            "Epoch 7/50\n",
            "99/99 - 1s - loss: 0.0811 - val_loss: 0.0886 - 596ms/epoch - 6ms/step\n",
            "Epoch 8/50\n",
            "99/99 - 1s - loss: 0.0762 - val_loss: 0.0889 - 577ms/epoch - 6ms/step\n",
            "Epoch 9/50\n",
            "99/99 - 1s - loss: 0.0776 - val_loss: 0.0851 - 613ms/epoch - 6ms/step\n",
            "Epoch 10/50\n",
            "99/99 - 1s - loss: 0.0749 - val_loss: 0.0887 - 535ms/epoch - 5ms/step\n",
            "Epoch 11/50\n",
            "99/99 - 1s - loss: 0.0729 - val_loss: 0.0839 - 601ms/epoch - 6ms/step\n",
            "Epoch 12/50\n",
            "99/99 - 1s - loss: 0.0728 - val_loss: 0.0885 - 809ms/epoch - 8ms/step\n",
            "Epoch 13/50\n",
            "99/99 - 1s - loss: 0.0722 - val_loss: 0.0930 - 1s/epoch - 14ms/step\n",
            "Epoch 14/50\n",
            "99/99 - 1s - loss: 0.0719 - val_loss: 0.0886 - 1s/epoch - 11ms/step\n",
            "Epoch 15/50\n",
            "99/99 - 2s - loss: 0.0706 - val_loss: 0.0826 - 2s/epoch - 16ms/step\n",
            "Epoch 16/50\n",
            "99/99 - 2s - loss: 0.0701 - val_loss: 0.0840 - 2s/epoch - 19ms/step\n",
            "Epoch 17/50\n",
            "99/99 - 1s - loss: 0.0687 - val_loss: 0.0857 - 1s/epoch - 15ms/step\n",
            "Epoch 18/50\n",
            "99/99 - 1s - loss: 0.0676 - val_loss: 0.0864 - 1s/epoch - 12ms/step\n",
            "Epoch 19/50\n",
            "99/99 - 1s - loss: 0.0682 - val_loss: 0.0895 - 1s/epoch - 14ms/step\n",
            "Epoch 20/50\n",
            "99/99 - 1s - loss: 0.0680 - val_loss: 0.0840 - 1s/epoch - 10ms/step\n",
            "Epoch 21/50\n",
            "99/99 - 1s - loss: 0.0665 - val_loss: 0.0869 - 787ms/epoch - 8ms/step\n",
            "Epoch 22/50\n",
            "99/99 - 1s - loss: 0.0666 - val_loss: 0.0861 - 888ms/epoch - 9ms/step\n",
            "Epoch 23/50\n",
            "99/99 - 1s - loss: 0.0674 - val_loss: 0.0900 - 1s/epoch - 10ms/step\n",
            "Epoch 24/50\n",
            "99/99 - 1s - loss: 0.0679 - val_loss: 0.0889 - 820ms/epoch - 8ms/step\n",
            "Epoch 25/50\n",
            "99/99 - 1s - loss: 0.0664 - val_loss: 0.0868 - 1s/epoch - 11ms/step\n",
            "Epoch 26/50\n",
            "99/99 - 1s - loss: 0.0650 - val_loss: 0.0849 - 1s/epoch - 11ms/step\n",
            "Epoch 27/50\n",
            "99/99 - 2s - loss: 0.0641 - val_loss: 0.0822 - 2s/epoch - 16ms/step\n",
            "Epoch 28/50\n",
            "99/99 - 1s - loss: 0.0645 - val_loss: 0.0869 - 1s/epoch - 15ms/step\n",
            "Epoch 29/50\n",
            "99/99 - 1s - loss: 0.0653 - val_loss: 0.0861 - 1s/epoch - 11ms/step\n",
            "Epoch 30/50\n",
            "99/99 - 1s - loss: 0.0641 - val_loss: 0.0850 - 1s/epoch - 12ms/step\n",
            "Epoch 31/50\n",
            "99/99 - 1s - loss: 0.0640 - val_loss: 0.0810 - 1s/epoch - 11ms/step\n",
            "Epoch 32/50\n",
            "99/99 - 1s - loss: 0.0636 - val_loss: 0.0838 - 849ms/epoch - 9ms/step\n",
            "Epoch 33/50\n",
            "99/99 - 1s - loss: 0.0634 - val_loss: 0.0803 - 608ms/epoch - 6ms/step\n",
            "Epoch 34/50\n",
            "99/99 - 1s - loss: 0.0627 - val_loss: 0.0803 - 809ms/epoch - 8ms/step\n",
            "Epoch 35/50\n",
            "99/99 - 1s - loss: 0.0620 - val_loss: 0.0784 - 996ms/epoch - 10ms/step\n",
            "Epoch 36/50\n",
            "99/99 - 1s - loss: 0.0622 - val_loss: 0.0845 - 641ms/epoch - 6ms/step\n",
            "Epoch 37/50\n",
            "99/99 - 1s - loss: 0.0615 - val_loss: 0.0786 - 802ms/epoch - 8ms/step\n",
            "Epoch 38/50\n",
            "99/99 - 1s - loss: 0.0607 - val_loss: 0.0795 - 765ms/epoch - 8ms/step\n",
            "Epoch 39/50\n",
            "99/99 - 1s - loss: 0.0608 - val_loss: 0.0733 - 817ms/epoch - 8ms/step\n",
            "Epoch 40/50\n",
            "99/99 - 1s - loss: 0.0617 - val_loss: 0.0840 - 659ms/epoch - 7ms/step\n",
            "Epoch 41/50\n",
            "99/99 - 1s - loss: 0.0607 - val_loss: 0.0791 - 755ms/epoch - 8ms/step\n",
            "Epoch 42/50\n",
            "99/99 - 1s - loss: 0.0599 - val_loss: 0.0805 - 650ms/epoch - 7ms/step\n",
            "Epoch 43/50\n",
            "99/99 - 1s - loss: 0.0599 - val_loss: 0.0800 - 620ms/epoch - 6ms/step\n",
            "Epoch 44/50\n",
            "99/99 - 1s - loss: 0.0592 - val_loss: 0.0833 - 980ms/epoch - 10ms/step\n",
            "Epoch 45/50\n",
            "99/99 - 1s - loss: 0.0587 - val_loss: 0.0708 - 523ms/epoch - 5ms/step\n",
            "Epoch 46/50\n",
            "99/99 - 0s - loss: 0.0590 - val_loss: 0.0687 - 498ms/epoch - 5ms/step\n",
            "Epoch 47/50\n",
            "99/99 - 1s - loss: 0.0598 - val_loss: 0.0861 - 613ms/epoch - 6ms/step\n",
            "Epoch 48/50\n",
            "99/99 - 1s - loss: 0.0595 - val_loss: 0.0806 - 565ms/epoch - 6ms/step\n",
            "Epoch 49/50\n",
            "99/99 - 1s - loss: 0.0586 - val_loss: 0.0836 - 1s/epoch - 13ms/step\n",
            "Epoch 50/50\n",
            "99/99 - 1s - loss: 0.0573 - val_loss: 0.0740 - 1s/epoch - 13ms/step\n"
          ]
        },
        {
          "output_type": "display_data",
          "data": {
            "text/plain": [
              "<Figure size 640x480 with 1 Axes>"
            ],
            "image/png": "[encoded data removed]"
          },
          "metadata": {}
        }
      ],
      "source": [
        "\n",
        "# design network\n",
        "model = Sequential()\n",
        "model.add(LSTM(50, input_shape=(train_X.shape[1], train_X.shape[2])))\n",
        "model.add(Dense(1))\n",
        "model.compile(loss='mae', optimizer='adam')\n",
        "# fit network\n",
        "history = model.fit(train_X, train_y, epochs=50, batch_size=10, validation_data=(test_X, test_y), verbose=2, shuffle=False)\n",
        "# plot history\n",
        "plt.plot(history.history['loss'], label='train')\n",
        "plt.plot(history.history['val_loss'], label='test')\n",
        "plt.legend()\n",
        "plt.show()"
      ]
    },
    {
      "cell_type": "code",
      "source": [
        "...\n",
        "# make a prediction\n",
        "yhat = model.predict(test_X)\n",
        "#test_X = test_X.reshape((test_X.shape[0], 1, test_X.shape[2]))\n",
        "# invert scaling for forecast\n",
        "inv_yhat = pd.concatenate((yhat, test_X[:, 1:]), axis=1)\n",
        "inv_yhat = scaler.inverse_transform(inv_yhat)\n",
        "inv_yhat = inv_yhat[:,0]\n",
        "# invert scaling for actual\n",
        "test_y = test_y.reshape((len(test_y), 1))\n",
        "inv_y = concatenate((test_y, test_X[:, 1:]), axis=1)\n",
        "inv_y = scaler.inverse_transform(inv_y)\n",
        "inv_y = inv_y[:,0]\n",
        "# calculate RMSE\n",
        "rmse = sqrt(mean_squared_error(inv_y, inv_yhat))\n",
        "print('Test RMSE: %.3f' % rmse)"
      ],
      "metadata": {
        "colab": {
          "base_uri": "https://localhost:8080/",
          "height": 789
        },
        "id": "YUmPVe_asELu",
        "outputId": "32d023b9-b6cb-448a-b2df-08635ac13846"
      },
      "execution_count": 46,
      "outputs": [
        {
          "output_type": "error",
          "ename": "TypeError",
          "evalue": "ignored",
          "traceback": [
            "\u001b[0;31m---------------------------------------------------------------------------\u001b[0m",
            "\u001b[0;31mTypeError\u001b[0m                                 Traceback (most recent call last)",
            "\u001b[0;32m<ipython-input-46-9978d1420887>\u001b[0m in \u001b[0;36m<cell line: 3>\u001b[0;34m()\u001b[0m\n\u001b[1;32m      1\u001b[0m \u001b[0;34m...\u001b[0m\u001b[0;34m\u001b[0m\u001b[0;34m\u001b[0m\u001b[0m\n\u001b[1;32m      2\u001b[0m \u001b[0;31m# make a prediction\u001b[0m\u001b[0;34m\u001b[0m\u001b[0;34m\u001b[0m\u001b[0m\n\u001b[0;32m----> 3\u001b[0;31m \u001b[0myhat\u001b[0m \u001b[0;34m=\u001b[0m \u001b[0mmodel\u001b[0m\u001b[0;34m.\u001b[0m\u001b[0mpredict\u001b[0m\u001b[0;34m(\u001b[0m\u001b[0mtest_X\u001b[0m\u001b[0;34m)\u001b[0m\u001b[0;34m\u001b[0m\u001b[0;34m\u001b[0m\u001b[0m\n\u001b[0m\u001b[1;32m      4\u001b[0m \u001b[0;31m#test_X = test_X.reshape((test_X.shape[0], 1, test_X.shape[2]))\u001b[0m\u001b[0;34m\u001b[0m\u001b[0;34m\u001b[0m\u001b[0m\n\u001b[1;32m      5\u001b[0m \u001b[0;31m# invert scaling for forecast\u001b[0m\u001b[0;34m\u001b[0m\u001b[0;34m\u001b[0m\u001b[0m\n",
            "\u001b[0;32m/usr/local/lib/python3.10/dist-packages/keras/src/utils/traceback_utils.py\u001b[0m in \u001b[0;36merror_handler\u001b[0;34m(*args, **kwargs)\u001b[0m\n\u001b[1;32m     68\u001b[0m             \u001b[0;31m# To get the full stack trace, call:\u001b[0m\u001b[0;34m\u001b[0m\u001b[0;34m\u001b[0m\u001b[0m\n\u001b[1;32m     69\u001b[0m             \u001b[0;31m# `tf.debugging.disable_traceback_filtering()`\u001b[0m\u001b[0;34m\u001b[0m\u001b[0;34m\u001b[0m\u001b[0m\n\u001b[0;32m---> 70\u001b[0;31m             \u001b[0;32mraise\u001b[0m \u001b[0me\u001b[0m\u001b[0;34m.\u001b[0m\u001b[0mwith_traceback\u001b[0m\u001b[0;34m(\u001b[0m\u001b[0mfiltered_tb\u001b[0m\u001b[0;34m)\u001b[0m \u001b[0;32mfrom\u001b[0m \u001b[0;32mNone\u001b[0m\u001b[0;34m\u001b[0m\u001b[0;34m\u001b[0m\u001b[0m\n\u001b[0m\u001b[1;32m     71\u001b[0m         \u001b[0;32mfinally\u001b[0m\u001b[0;34m:\u001b[0m\u001b[0;34m\u001b[0m\u001b[0;34m\u001b[0m\u001b[0m\n\u001b[1;32m     72\u001b[0m             \u001b[0;32mdel\u001b[0m \u001b[0mfiltered_tb\u001b[0m\u001b[0;34m\u001b[0m\u001b[0;34m\u001b[0m\u001b[0m\n",
            "\u001b[0;32m/usr/local/lib/python3.10/dist-packages/keras/src/engine/training.py\u001b[0m in \u001b[0;36mtf__predict_function\u001b[0;34m(iterator)\u001b[0m\n\u001b[1;32m     13\u001b[0m                 \u001b[0;32mtry\u001b[0m\u001b[0;34m:\u001b[0m\u001b[0;34m\u001b[0m\u001b[0;34m\u001b[0m\u001b[0m\n\u001b[1;32m     14\u001b[0m                     \u001b[0mdo_return\u001b[0m \u001b[0;34m=\u001b[0m \u001b[0;32mTrue\u001b[0m\u001b[0;34m\u001b[0m\u001b[0;34m\u001b[0m\u001b[0m\n\u001b[0;32m---> 15\u001b[0;31m                     \u001b[0mretval_\u001b[0m \u001b[0;34m=\u001b[0m \u001b[0mag__\u001b[0m\u001b[0;34m.\u001b[0m\u001b[0mconverted_call\u001b[0m\u001b[0;34m(\u001b[0m\u001b[0mag__\u001b[0m\u001b[0;34m.\u001b[0m\u001b[0mld\u001b[0m\u001b[0;34m(\u001b[0m\u001b[0mstep_function\u001b[0m\u001b[0;34m)\u001b[0m\u001b[0;34m,\u001b[0m \u001b[0;34m(\u001b[0m\u001b[0mag__\u001b[0m\u001b[0;34m.\u001b[0m\u001b[0mld\u001b[0m\u001b[0;34m(\u001b[0m\u001b[0mself\u001b[0m\u001b[0;34m)\u001b[0m\u001b[0;34m,\u001b[0m \u001b[0mag__\u001b[0m\u001b[0;34m.\u001b[0m\u001b[0mld\u001b[0m\u001b[0;34m(\u001b[0m\u001b[0miterator\u001b[0m\u001b[0;34m)\u001b[0m\u001b[0;34m)\u001b[0m\u001b[0;34m,\u001b[0m \u001b[0;32mNone\u001b[0m\u001b[0;34m,\u001b[0m \u001b[0mfscope\u001b[0m\u001b[0;34m)\u001b[0m\u001b[0;34m\u001b[0m\u001b[0;34m\u001b[0m\u001b[0m\n\u001b[0m\u001b[1;32m     16\u001b[0m                 \u001b[0;32mexcept\u001b[0m\u001b[0;34m:\u001b[0m\u001b[0;34m\u001b[0m\u001b[0;34m\u001b[0m\u001b[0m\n\u001b[1;32m     17\u001b[0m                     \u001b[0mdo_return\u001b[0m \u001b[0;34m=\u001b[0m \u001b[0;32mFalse\u001b[0m\u001b[0;34m\u001b[0m\u001b[0;34m\u001b[0m\u001b[0m\n",
            "\u001b[0;31mTypeError\u001b[0m: in user code:\n\n    File \"/usr/local/lib/python3.10/dist-packages/keras/src/engine/training.py\", line 2416, in predict_function  *\n        return step_function(self, iterator)\n    File \"/usr/local/lib/python3.10/dist-packages/keras/src/engine/training.py\", line 2401, in step_function  **\n        outputs = model.distribute_strategy.run(run_step, args=(data,))\n    File \"/usr/local/lib/python3.10/dist-packages/keras/src/engine/training.py\", line 2389, in run_step  **\n        outputs = model.predict_step(data)\n    File \"/usr/local/lib/python3.10/dist-packages/keras/src/engine/training.py\", line 2357, in predict_step\n        return self(x, training=False)\n    File \"/usr/local/lib/python3.10/dist-packages/keras/src/utils/traceback_utils.py\", line 70, in error_handler\n        raise e.with_traceback(filtered_tb) from None\n    File \"/usr/local/lib/python3.10/dist-packages/keras/src/layers/rnn/lstm.py\", line 616, in call\n        timesteps = input_shape[0] if self.time_major else input_shape[1]\n\n    TypeError: Exception encountered when calling layer 'lstm_7' (type LSTM).\n    \n    'NoneType' object is not subscriptable\n    \n    Call arguments received by layer 'lstm_7' (type LSTM):\n      • inputs=tf.Tensor(shape=<unknown>, dtype=float32)\n      • mask=None\n      • training=False\n      • initial_state=None\n"
          ]
        }
      ]
    },
    {
      "cell_type": "code",
      "source": [
        "from math import sqrt\n",
        "from numpy import concatenate\n",
        "from matplotlib import pyplot\n",
        "from pandas import read_csv\n",
        "from pandas import DataFrame\n",
        "from pandas import concat\n",
        "from sklearn.preprocessing import MinMaxScaler\n",
        "from sklearn.preprocessing import LabelEncoder\n",
        "from sklearn.metrics import mean_squared_error\n",
        "from keras.models import Sequential\n",
        "from keras.layers import Dense\n",
        "from keras.layers import LSTM\n",
        "\n",
        "# convert series to supervised learning\n",
        "def series_to_supervised(data, n_in=1, n_out=1, dropnan=True):\n",
        "\tn_vars = 1 if type(data) is list else data.shape[1]\n",
        "\tdf = DataFrame(data)\n",
        "\tcols, names = list(), list()\n",
        "\t# input sequence (t-n, ... t-1)\n",
        "\tfor i in range(n_in, 0, -1):\n",
        "\t\tcols.append(df.shift(i))\n",
        "\t\tnames += [('var%d(t-%d)' % (j+1, i)) for j in range(n_vars)]\n",
        "\t# forecast sequence (t, t+1, ... t+n)\n",
        "\tfor i in range(0, n_out):\n",
        "\t\tcols.append(df.shift(-i))\n",
        "\t\tif i == 0:\n",
        "\t\t\tnames += [('var%d(t)' % (j+1)) for j in range(n_vars)]\n",
        "\t\telse:\n",
        "\t\t\tnames += [('var%d(t+%d)' % (j+1, i)) for j in range(n_vars)]\n",
        "\t# put it all together\n",
        "\tagg = concat(cols, axis=1)\n",
        "\tagg.columns = names\n",
        "\t# drop rows with NaN values\n",
        "\tif dropnan:\n",
        "\t\tagg.dropna(inplace=True)\n",
        "\treturn agg\n",
        "\n",
        "# load dataset\n",
        "dataset = read_csv('pollution.csv', header=0, index_col=0)\n",
        "values = dataset.values\n",
        "# integer encode direction\n",
        "encoder = LabelEncoder()\n",
        "values[:,4] = encoder.fit_transform(values[:,4])\n",
        "# ensure all data is float\n",
        "values = values.astype('float32')\n",
        "# normalize features\n",
        "scaler = MinMaxScaler(feature_range=(0, 1))\n",
        "scaled = scaler.fit_transform(values)\n",
        "# frame as supervised learning\n",
        "reframed = series_to_supervised(scaled, 1, 1)\n",
        "# drop columns we don't want to predict\n",
        "reframed.drop(reframed.columns[[9,10,11,12,13,14,15]], axis=1, inplace=True)\n",
        "print(reframed.head())\n",
        "\n",
        "# split into train and test sets\n",
        "values = reframed.values\n",
        "n_train_hours = 365 * 24\n",
        "train = values[:n_train_hours, :]\n",
        "test = values[n_train_hours:, :]\n",
        "# split into input and outputs\n",
        "train_X, train_y = train[:, :-1], train[:, -1]\n",
        "test_X, test_y = test[:, :-1], test[:, -1]\n",
        "# reshape input to be 3D [samples, timesteps, features]\n",
        "train_X = train_X.reshape((train_X.shape[0], 1, train_X.shape[1]))\n",
        "test_X = test_X.reshape((test_X.shape[0], 1, test_X.shape[1]))\n",
        "print(train_X.shape, train_y.shape, test_X.shape, test_y.shape)\n",
        "\n",
        "# design network\n",
        "model = Sequential()\n",
        "model.add(LSTM(50, input_shape=(train_X.shape[1], train_X.shape[2])))\n",
        "model.add(Dense(1))\n",
        "model.compile(loss='mae', optimizer='adam')\n",
        "# fit network\n",
        "history = model.fit(train_X, train_y, epochs=50, batch_size=72, validation_data=(test_X, test_y), verbose=2, shuffle=False)\n",
        "# plot history\n",
        "pyplot.plot(history.history['loss'], label='train')\n",
        "pyplot.plot(history.history['val_loss'], label='test')\n",
        "pyplot.legend()\n",
        "pyplot.show()\n",
        "\n",
        "# make a prediction\n",
        "yhat = model.predict(test_X)\n",
        "test_X = test_X.reshape((test_X.shape[0], test_X.shape[2]))\n",
        "# invert scaling for forecast\n",
        "inv_yhat = concatenate((yhat, test_X[:, 1:]), axis=1)\n",
        "inv_yhat = scaler.inverse_transform(inv_yhat)\n",
        "inv_yhat = inv_yhat[:,0]\n",
        "# invert scaling for actual\n",
        "test_y = test_y.reshape((len(test_y), 1))\n",
        "inv_y = concatenate((test_y, test_X[:, 1:]), axis=1)\n",
        "inv_y = scaler.inverse_transform(inv_y)\n",
        "inv_y = inv_y[:,0]\n",
        "# calculate RMSE\n",
        "rmse = sqrt(mean_squared_error(inv_y, inv_yhat))\n",
        "print('Test RMSE: %.3f' % rmse)"
      ],
      "metadata": {
        "id": "E0oAC69WsGS2"
      },
      "execution_count": null,
      "outputs": []
    }
  ],
  "metadata": {
    "kernelspec": {
      "display_name": "Python 3",
      "language": "python",
      "name": "python3"
    },
    "language_info": {
      "codemirror_mode": {
        "name": "ipython",
        "version": 3
      },
      "file_extension": ".py",
      "mimetype": "text/x-python",
      "name": "python",
      "nbconvert_exporter": "python",
      "pygments_lexer": "ipython3",
      "version": "3.12.0"
    },
    "colab": {
      "provenance": []
    }
  },
  "nbformat": 4,
  "nbformat_minor": 0
}